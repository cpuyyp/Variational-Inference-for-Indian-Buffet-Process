{
 "cells": [
  {
   "cell_type": "markdown",
   "metadata": {
    "toc": true
   },
   "source": [
    "<h1>Table of Contents<span class=\"tocSkip\"></span></h1>\n",
    "<div class=\"toc\"><ul class=\"toc-item\"><li><span><a href=\"#import-and-some-probability-functions\" data-toc-modified-id=\"import-and-some-probability-functions-1\"><span class=\"toc-item-num\">1&nbsp;&nbsp;</span>import and some probability functions</a></span></li><li><span><a href=\"#generate-synthetic-data\" data-toc-modified-id=\"generate-synthetic-data-2\"><span class=\"toc-item-num\">2&nbsp;&nbsp;</span>generate synthetic data</a></span></li><li><span><a href=\"#functions-for-inference\" data-toc-modified-id=\"functions-for-inference-3\"><span class=\"toc-item-num\">3&nbsp;&nbsp;</span>functions for inference</a></span></li><li><span><a href=\"#train\" data-toc-modified-id=\"train-4\"><span class=\"toc-item-num\">4&nbsp;&nbsp;</span>train</a></span></li><li><span><a href=\"#examine-model-performance\" data-toc-modified-id=\"examine-model-performance-5\"><span class=\"toc-item-num\">5&nbsp;&nbsp;</span>examine model performance</a></span></li></ul></div>"
   ]
  },
  {
   "cell_type": "markdown",
   "metadata": {},
   "source": [
    "# import and some probability functions"
   ]
  },
  {
   "cell_type": "code",
   "execution_count": null,
   "metadata": {},
   "outputs": [],
   "source": [
    "import numpy as np\n",
    "import matplotlib.pyplot as plt\n",
    "from mpl_toolkits.mplot3d import Axes3D\n",
    "import numpy as np\n",
    "import matplotlib as mpl\n",
    "from tqdm.notebook import tqdm,trange\n",
    "import pdb\n",
    "import inspect\n",
    "import scipy.io\n",
    "import copy\n",
    "\n",
    "import scipy.stats, scipy.special\n",
    "from scipy.special import digamma as Digamma\n",
    "from scipy.special import gamma as Gamma\n",
    "\n",
    "from numpy.random import gamma as Gammar\n",
    "from numpy.random import beta as Beta\n",
    "from numpy.random import multivariate_normal as Normal\n",
    "\n",
    "from PIL import Image\n",
    "import pandas as pd"
   ]
  },
  {
   "cell_type": "code",
   "execution_count": 142,
   "metadata": {},
   "outputs": [],
   "source": [
    "def GammaR(alpha, beta):\n",
    "    return Gammar(alpha, scale = 1/beta)"
   ]
  },
  {
   "cell_type": "code",
   "execution_count": 143,
   "metadata": {},
   "outputs": [],
   "source": [
    "def log(x):\n",
    "    return np.log(x)"
   ]
  },
  {
   "cell_type": "code",
   "execution_count": 144,
   "metadata": {},
   "outputs": [],
   "source": [
    "def logGamma(x):\n",
    "    return np.log(Gamma(x))"
   ]
  },
  {
   "cell_type": "code",
   "execution_count": 145,
   "metadata": {},
   "outputs": [],
   "source": [
    "def stirling(x):\n",
    "    return np.sqrt(2*np.pi/x)*(x/np.e)**x"
   ]
  },
  {
   "cell_type": "code",
   "execution_count": 146,
   "metadata": {},
   "outputs": [],
   "source": [
    "def IBP(alpha = 10, num_object = 20):\n",
    "    n_init = np.random.poisson(alpha)\n",
    "    Z = np.zeros(shape=(num_object,n_init),dtype = np.int32)\n",
    "    Z[0,:] = 1\n",
    "    K_plus = n_init\n",
    "    for i in range(1,num_object):\n",
    "        # Calculate probability of visiting past dishes\n",
    "        Z[i,:] = Z.sum(axis = 0)/(i+1) > np.random.rand(1,K_plus)\n",
    "        # Calculate the number of new dishes visited by customer i\n",
    "        K_new = np.random.poisson(alpha/(i+1)) \n",
    "        Z=np.concatenate((Z,np.zeros(shape=(num_object,K_new),dtype = np.int32)), axis=1)\n",
    "        Z[i,K_plus:K_plus+K_new] = 1\n",
    "        # Update matrix size and dish popularity count\n",
    "        K_plus = K_plus+K_new\n",
    "    return Z, K_plus"
   ]
  },
  {
   "cell_type": "markdown",
   "metadata": {},
   "source": [
    "# generate synthetic data"
   ]
  },
  {
   "cell_type": "code",
   "execution_count": 227,
   "metadata": {},
   "outputs": [],
   "source": [
    "A = np.array([[0, 1, 0, 0, 0, 0, 1, 1, 1, 0, 0, 0, 0, 1, 0, 0, 0, 0, 0, 0, 0, 0, 0, 0, 0, 0, 0, 0, 0, 0, 0, 0, 0, 0, 0, 0],\n",
    "              [0, 0, 0, 1, 1, 1, 0, 0, 0, 1, 0, 1, 0, 0, 0, 1, 1, 1, 0, 0, 0, 0, 0, 0, 0, 0, 0, 0, 0, 0, 0, 0, 0, 0, 0, 0],\n",
    "              [0, 0, 0, 0, 0, 0, 0, 0, 0, 0, 0, 0, 0, 0, 0, 0, 0, 0, 1, 0, 0, 0, 0, 0, 1, 1, 0, 0, 0, 0, 1, 1, 1, 0, 0, 0],\n",
    "              [0, 0, 0, 0, 0, 0, 0, 0, 0, 0, 0, 0, 0, 0, 0, 0, 0, 0, 0, 0, 0, 1, 1, 1, 0, 0, 0, 0, 1, 0, 0, 0, 0, 0, 1, 0],\n",
    "              [0, 0, 0, 0, 0, 0, 0, 0, 0, 0, 0, 0, 0, 0, 1, 1, 1, 0, 0, 0, 1, 0, 0, 0, 0, 0, 1, 1, 1, 0, 0, 0, 0, 0, 0, 0]])\n",
    "def gen_data(A, sigma_x = 0.5, num_object = 100):\n",
    "    num_feature, num_dim = A.shape\n",
    "    I = sigma_x*np.ones(num_dim)\n",
    "    Z = np.zeros((num_object, num_feature))\n",
    "    X = np.zeros((num_object, num_dim))\n",
    "    for i in range(num_object):\n",
    "        while (Z[i,:].sum() == 0):\n",
    "            Z[i,:] = np.random.rand(1,num_feature) > .5\n",
    "        X[i,:] = np.random.randn(num_dim)*I+Z[i,:]@A\n",
    "    return X, Z"
   ]
  },
  {
   "cell_type": "code",
   "execution_count": 228,
   "metadata": {},
   "outputs": [
    {
     "data": {
      "image/png": "[encoded data removed]",
      "text/plain": [
       "<Figure size 720x360 with 5 Axes>"
      ]
     },
     "metadata": {},
     "output_type": "display_data"
    }
   ],
   "source": [
    "# show predetermined features\n",
    "fig, ax = plt.subplots(figsize=(10,5))\n",
    "for i in range(5):\n",
    "    plt.subplot(1,5,1+i)\n",
    "    plt.imshow(A[i,:].reshape(6,6), cmap='gray')\n",
    "    plt.axis('off')\n",
    "    plt.title(f'feature {i+1}', fontsize= 20)\n",
    "plt.tight_layout()\n",
    "plt.show()\n"
   ]
  },
  {
   "cell_type": "code",
   "execution_count": 233,
   "metadata": {},
   "outputs": [],
   "source": [
    "# hyperparameters for generating data\n",
    "sigma_x = 0.2\n",
    "num_feature = 5\n",
    "num_dim = 36\n",
    "num_object = 200\n",
    "X,Z_groundtruth = gen_data(A, sigma_x = sigma_x, num_object = num_object)"
   ]
  },
  {
   "cell_type": "code",
   "execution_count": 269,
   "metadata": {},
   "outputs": [],
   "source": [
    "# do not need to normalize\n",
    "# X = X - X.min()+0.001\n",
    "# X = X/X.max()"
   ]
  },
  {
   "cell_type": "code",
   "execution_count": 238,
   "metadata": {},
   "outputs": [],
   "source": [
    "# save image and true label\n",
    "# np.savetxt('Z.txt', Z_groundtruth)\n",
    "# from pathlib import Path\n",
    "# Path(\"./results\").mkdir(parents=True, exist_ok=True)\n",
    "# for i in range(num_object):\n",
    "#     plt.imsave('./results/'+str(i)+'.jpg', X[i,:].reshape(6,6), cmap='gray')"
   ]
  },
  {
   "cell_type": "code",
   "execution_count": 239,
   "metadata": {
    "scrolled": true
   },
   "outputs": [
    {
     "data": {
      "image/png": "[encoded data removed]",
      "text/plain": [
       "<Figure size 720x396 with 5 Axes>"
      ]
     },
     "metadata": {},
     "output_type": "display_data"
    }
   ],
   "source": [
    "# show first 5 examples\n",
    "plt.figure(figsize = (10,5.5))\n",
    "# plt.suptitle('Sample from dataset', fontsize = 18)\n",
    "for i in range(5):\n",
    "#     print(Z_groundtruth[i])\n",
    "    plt.subplot(1,5,1+i)\n",
    "    plt.title(f'{str(Z_groundtruth[i].astype(int))}', fontsize = 20)\n",
    "    plt.axis('off')\n",
    "    plt.imshow(X[i,:].reshape(6,6), cmap='gray')\n",
    "plt.tight_layout()\n",
    "plt.show()"
   ]
  },
  {
   "cell_type": "markdown",
   "metadata": {},
   "source": [
    "# functions for inference"
   ]
  },
  {
   "cell_type": "code",
   "execution_count": 240,
   "metadata": {},
   "outputs": [],
   "source": [
    "# helper class for simpler function arguments and data storage\n",
    "class params_set():\n",
    "    def attrs_dict(self, exclude = []):\n",
    "        dic = copy.deepcopy(self.__dict__)\n",
    "        for key in exclude:\n",
    "            del dic[key]\n",
    "        return dic\n",
    "    def print_attrs(self, key = None):\n",
    "        if key == None:\n",
    "            key = list(self.attrs_dict().keys())\n",
    "        for k in key:\n",
    "            print(k+\": \",self.attrs_dict()[k])\n",
    "    def set_attrs_dict(self, dic): \n",
    "#         self.__dict__ = dic\n",
    "        for k,v in dic.items():\n",
    "            self.__dict__[k] = v"
   ]
  },
  {
   "cell_type": "code",
   "execution_count": 241,
   "metadata": {},
   "outputs": [],
   "source": [
    "def compute_auxiliary_q_and_lb(eta, k):\n",
    "    eta = eta[:k,:]\n",
    "    temp = Digamma(eta[:,1]) \\\n",
    "         + np.cumsum(np.insert(Digamma(eta[:,0]),0,0))[:-1] \\\n",
    "         - np.cumsum(Digamma(eta[:,0]+eta[:,1])) \n",
    "    q = np.exp(temp-temp.max())\n",
    "    q = q/q.sum()\n",
    "    lb = (q*(temp - log(q))).sum()\n",
    "    return q, lb   "
   ]
  },
  {
   "cell_type": "code",
   "execution_count": 242,
   "metadata": {},
   "outputs": [],
   "source": [
    "def compute_lower_bound(X, model):\n",
    "    # following section 2.2 in VIBP derivation (eq.10)\n",
    "    N = model.N\n",
    "    K = model.K\n",
    "    D = model.D\n",
    "    \n",
    "    alpha_0 = model.alpha_0\n",
    "    tau_A0 = model.tau_A0\n",
    "    tau_n0 = model.tau_n0\n",
    "    \n",
    "    rho_alpha = model.rho_alpha\n",
    "    rho_A = model.rho_A\n",
    "    rho_n = model.rho_n\n",
    "    nu = model.nu\n",
    "    eta = model.eta\n",
    "    phi_mean = model.phi[0,:,:]\n",
    "    phi_cov = model.phi[1,:,:]\n",
    "    \n",
    "    terms = [] # save terms seperately for debugging purpose\n",
    "    \n",
    "    # first three terms (eq.17), for alpha, tau_A, and tau_n\n",
    "    term1 = alpha_0[1]**alpha_0[0]/Gamma(alpha_0[0]) \\\n",
    "            + (alpha_0[0] - 1)*(-log(rho_alpha[1]) + Digamma(rho_alpha[0])) \\\n",
    "            - alpha_0[0]*rho_alpha[0]/rho_alpha[1]\n",
    "    terms.append(term1)\n",
    "    \n",
    "    term2 = tau_A0[1]**tau_A0[0]/Gamma(tau_A0[0]) \\\n",
    "            + (tau_A0[0] - 1)*(-log(rho_A[1]) + Digamma(rho_A[0])) \\\n",
    "            - tau_A0[0]*rho_A[0]/rho_A[1]\n",
    "    terms.append(term2)\n",
    "    \n",
    "    term3 = tau_n0[1]**tau_n0[0]/Gamma(tau_n0[0]) \\\n",
    "            + (tau_n0[0] - 1)*(-log(rho_n[1]) + Digamma(rho_n[0])) \\\n",
    "            - tau_n0[0]*rho_n[0]/rho_n[1]\n",
    "    terms.append(term3)\n",
    "    \n",
    "    # forth term (eq.18), for v\n",
    "    term4 = K*(-log(rho_alpha[1]) + Digamma(rho_alpha[0])) \\\n",
    "            + (rho_alpha[0]/rho_alpha[1] - 1) \\\n",
    "                *(Digamma(eta[:,0]) - Digamma(eta.sum(axis=1))).sum()\n",
    "    terms.append(term4)\n",
    "    \n",
    "    # fifth term (eq.19), for Z\n",
    "    term5 = 0\n",
    "    for k in range(K):\n",
    "        q, lb = compute_auxiliary_q_and_lb(eta, k+1)\n",
    "        term5 += nu[:,k].sum()*(Digamma(eta[:k+1,0]) - Digamma(eta[:k+1,0]+eta[:k+1,1])).sum() \\\n",
    "                + (N-nu[:,k].sum())*lb\n",
    "    terms.append(term5)\n",
    "    \n",
    "    # sixth term (eq.24), for A\n",
    "    term6 = K*D/2*(-log(rho_A[1]) + Digamma(rho_A[0])-log(2*np.pi)) \\\n",
    "            - rho_A[0]/2/rho_A[1] * (phi_cov.sum() + (phi_mean**2).sum()) # need to confirm the last term (phi_mean**2).sum()\n",
    "    terms.append(term6)\n",
    "    \n",
    "    # seventh term (eq.26), for likelihood\n",
    "    term7 = N*D/2*(-log(rho_n[1]) + Digamma(rho_n[0]) - log(2*np.pi)) \\\n",
    "            - rho_n[0]/2/rho_n[1]*( (X**2).sum() \\\n",
    "                                   - 2*(nu*(X@phi_mean.T)).sum() \\\n",
    "                                   + ((nu@phi_mean)**2).sum() - (nu**2@phi_mean**2).sum() \\\n",
    "                                   + (nu*(np.ones_like(X)@(phi_cov + phi_mean**2).T)).sum() )  # need to confirm the last term (nu@(phi_cov + (phi_mean**2))).sum()\n",
    "    terms.append(term7)\n",
    "    \n",
    "    # eighth term (eq.29), for entropy\n",
    "    term8_1 = log(Gamma(rho_alpha[0])/(rho_alpha[1])**rho_alpha[0]) \\\n",
    "            - (rho_alpha[0] - 1)*(-log(rho_alpha[1]) + Digamma(rho_alpha[0])) \\\n",
    "            + rho_alpha[0]\n",
    "    \n",
    "    # approxiate term8_2 using Stirling's approximation\n",
    "    temp = log(np.sqrt(2*np.pi/rho_A[0])) + rho_A[0] * log(rho_A[0]/np.e/rho_A[1])\n",
    "#     term8_2 = log(Gamma(rho_A[0])/(rho_A[1])**rho_A[0]) \\\n",
    "    term8_2 = temp \\\n",
    "            - (rho_A[0] - 1)*(-log(rho_A[1]) + Digamma(rho_A[0])) \\\n",
    "            + rho_A[0]\n",
    "    \n",
    "    # approxiate term8_3 using Stirling's approximation\n",
    "    temp = log(np.sqrt(2*np.pi/rho_n[0])) + rho_n[0] * log(rho_n[0]/np.e/rho_n[1])\n",
    "#     term8_3 = log(Gamma(rho_n[0])/(rho_n[1])**rho_n[0]) \\\n",
    "    term8_3 = temp \\\n",
    "            - (rho_n[0] - 1)*(-log(rho_n[1]) + Digamma(rho_n[0])) \\\n",
    "            + rho_n[0]\n",
    "    \n",
    "    # approxiate term8_4 using Stirling's approximation\n",
    "    temp = 0\n",
    "    for i in range(eta.shape[0]):\n",
    "        temp += log( np.sqrt(2*np.pi* (eta[i,0]+eta[i,1])/(eta[i,0]*eta[i,1]))) \\\n",
    "                + eta[i,0]*log(eta[i,0]) + eta[i,1]*log(eta[i,1]) \\\n",
    "                - (eta[i,0] + eta[i,1])*log(eta[i,0] + eta[i,1])\n",
    "#     temp = logGamma(eta[:,0]).sum() + logGamma(eta[:,1]).sum() \\\n",
    "#             - logGamma(eta.sum(axis=1)).sum() \\    \n",
    "    term8_4 = temp \\\n",
    "            - ((eta[:,0] - 1)*Digamma(eta[:,0])).sum() \\\n",
    "            - ((eta[:,1] - 1)*Digamma(eta[:,1])).sum() \\\n",
    "            + ((eta.sum(axis=1) - 2)*Digamma(eta.sum(axis=1))).sum()\n",
    "    \n",
    "    term8_5 = K*D/2*log(2*np.pi*np.e) + 1/2*log(phi_cov).sum()\n",
    "    \n",
    "    tmp_nu = nu + 0.5*(nu==0) - 0.5*(nu==1)\n",
    "    term8_6 = -tmp_nu*log(tmp_nu) - (1-tmp_nu)*log(1-tmp_nu)\n",
    "    term8_6 = ( term8_6 * (nu>0) * (nu<1) ).sum() \n",
    "                                   \n",
    "    term8s = np.array([term8_1, term8_2, term8_3, term8_4, term8_5, term8_6])\n",
    "    term8 = term8s.sum()\n",
    "    terms.append(term8)\n",
    "                                   \n",
    "    lower_bound = np.sum(terms)\n",
    "    \n",
    "    return lower_bound, terms"
   ]
  },
  {
   "cell_type": "code",
   "execution_count": 243,
   "metadata": {},
   "outputs": [],
   "source": [
    "def update_phi(X, model):\n",
    "    N = model.N\n",
    "    K = model.K\n",
    "    rho_A = model.rho_A\n",
    "    rho_n = model.rho_n\n",
    "    nu = model.nu\n",
    "    phi_mean = model.phi[0,:,:]\n",
    "    phi_cov = model.phi[1,:,:]\n",
    "   \n",
    "    for k in range(K):\n",
    "        non_k_idx = np.delete(np.arange(K), k)\n",
    "        mat_B = (rho_A[0]/rho_A[1] + rho_n[0]/rho_n[1] * np.ones_like(X).T@nu[:,k]) # why the mask (ones_like in my case)?\n",
    "        mat_C = X.T@nu[:,k]\n",
    "        for n in range(N):\n",
    "            mat_C -= nu[n,k] * (nu[n,non_k_idx].reshape(-1,1)*phi_mean[non_k_idx,:]).sum(axis = 0)\n",
    "#         mat_C = mat_C * (rho_n[0]*nu[:,k].sum()/rho_n[1])\n",
    "        mat_C = mat_C * (rho_n[0]/rho_n[1])\n",
    "        \n",
    "        phi_cov[k,:] = 1/mat_B\n",
    "        phi_mean[k,:] = mat_C/mat_B\n",
    "    return phi_mean, phi_cov\n"
   ]
  },
  {
   "cell_type": "code",
   "execution_count": 244,
   "metadata": {},
   "outputs": [],
   "source": [
    "def update_nu(X, model):\n",
    "    N = model.N\n",
    "    K = model.K\n",
    "    rho_n = model.rho_n\n",
    "    nu = model.nu\n",
    "    phi_mean = model.phi[0,:,:]\n",
    "    phi_cov = model.phi[1,:,:]\n",
    "    eta = model.eta\n",
    "    \n",
    "    for k in range(K):\n",
    "        _, lb = compute_auxiliary_q_and_lb(eta, k+1)\n",
    "        var_theta_k = (Digamma(eta[:k+1,0]) - Digamma(eta[:k+1,:].sum(axis=1))).sum() - lb\n",
    "        non_k_idx = np.delete(np.arange(K), k)\n",
    "        for n in range(N):\n",
    "            var_theta = var_theta_k - (rho_n[0]/2/rho_n[1]) * ((phi_cov[k,:].sum() + (phi_mean[k,:]**2).sum()) \\\n",
    "                           - 2*(phi_mean[k,:].T@(X[n,:].T - (nu[n, non_k_idx].reshape(-1,1) * phi_mean[non_k_idx,:]).sum(axis=0) )) )\n",
    "            nu[n,k] = max(0.00001, 1/(1+np.exp(-var_theta)) )  # var_theta can be too negative, lead to overflow\n",
    "    return nu       \n",
    "                                     "
   ]
  },
  {
   "cell_type": "code",
   "execution_count": 245,
   "metadata": {},
   "outputs": [],
   "source": [
    "def update_eta(model):\n",
    "    N = model.N\n",
    "    K = model.K\n",
    "    nu = model.nu\n",
    "    eta = model.eta\n",
    "    alpha_0 = model.alpha_0\n",
    "    \n",
    "    sum_n_nu = nu.sum(axis=0)\n",
    "    N_minus_sum_n_nu = N - sum_n_nu\n",
    "    for k in range(K):\n",
    "        q,_ = compute_auxiliary_q_and_lb(eta, K)\n",
    "        qs = np.zeros((K,K))\n",
    "        for m in range(k,K):\n",
    "            qs[m,:m+1] = q[:m+1]/q[:m+1].sum()\n",
    "        eta[k,0] = alpha_0[0] + sum_n_nu[k:].sum() \\\n",
    "                        + N_minus_sum_n_nu[k+1:]@qs[k+1:,k+1:].sum(axis=1) # confirmed with doshi's\n",
    "        eta[k,1] = N_minus_sum_n_nu[k:]@qs[k:,k] + 1   # confirmed with doshi's\n",
    "    return eta\n",
    "        "
   ]
  },
  {
   "cell_type": "code",
   "execution_count": 246,
   "metadata": {},
   "outputs": [],
   "source": [
    "def update_rho_A(model):\n",
    "    K = model.K\n",
    "    D = model.D\n",
    "    tau_A0 = model.tau_A0\n",
    "    phi_mean = model.phi[0,:,:]\n",
    "    phi_cov = model.phi[1,:,:]\n",
    "    rho_A = model.rho_A\n",
    "    \n",
    "    rho_A[0] = tau_A0[0] + D*K/2\n",
    "    rho_A[1] = tau_A0[1] +1/2*(phi_cov.sum() + (phi_mean**2).sum())\n",
    "    return rho_A"
   ]
  },
  {
   "cell_type": "code",
   "execution_count": 247,
   "metadata": {},
   "outputs": [],
   "source": [
    "def update_rho_n(X, model):\n",
    "    N = model.N\n",
    "    K = model.K\n",
    "    D = model.D\n",
    "    tau_n0 = model.tau_n0\n",
    "    nu = model.nu\n",
    "    phi_mean = model.phi[0,:,:]\n",
    "    phi_cov = model.phi[1,:,:]\n",
    "    rho_n = model.rho_n\n",
    "\n",
    "    rho_n[0] = tau_n0[0] + D*N/2\n",
    "    \n",
    "    # X**2 may too large\n",
    "    rho_n[1] = tau_n0[1] \\\n",
    "             + 1/2*( (X**2).sum() \\\n",
    "             - 2*(nu*(X@phi_mean.T)).sum() \\\n",
    "             + ((nu@phi_mean)**2).sum() - (nu**2@phi_mean**2).sum() \\\n",
    "             + (nu*(np.ones_like(X)@(phi_cov + phi_mean**2).T)).sum() )  # links to term 7 in lower bound\n",
    "    return rho_n"
   ]
  },
  {
   "cell_type": "code",
   "execution_count": 248,
   "metadata": {},
   "outputs": [],
   "source": [
    "def update_rho_alpha(model):\n",
    "    K = model.K\n",
    "    alpha_0 = model.alpha_0\n",
    "    eta = model.eta\n",
    "    rho_alpha = model.rho_alpha\n",
    "    \n",
    "    rho_alpha[0] = alpha_0[0] + K\n",
    "    rho_alpha[1] = alpha_0[1] \\\n",
    "                 - (Digamma(eta[:,0]) - Digamma(eta[:,0]+eta[:,1])).sum()\n",
    "    return rho_alpha"
   ]
  },
  {
   "cell_type": "code",
   "execution_count": 249,
   "metadata": {},
   "outputs": [],
   "source": [
    "def update_parameters(X, model, maxIter = 20, thresh = 1e-2):\n",
    "    itr_count = 0\n",
    "    lb, _ = compute_lower_bound(X, model)\n",
    "    local_lbs = []\n",
    "#     print('initial lb: ',lb)\n",
    "    while 1:\n",
    "#         print('='*20,'itr {}'.format(itr_count),'='*20)\n",
    "        itr_count += 1\n",
    "        for j in np.random.permutation(6): # update in random order\n",
    "            if j == 0:\n",
    "                eta = update_eta(model)\n",
    "                model.eta = eta\n",
    "            elif j == 1:\n",
    "                nu = update_nu(X, model)\n",
    "                best_model['nu']\n",
    "                model.nu = nu\n",
    "            elif j == 2:\n",
    "                phi_mean, phi_cov = update_phi(X, model)\n",
    "                model.phi[0,:,:] = phi_mean\n",
    "                model.phi[1,:,:] = phi_cov\n",
    "            elif j == 3:\n",
    "                rho_A = update_rho_A(model)\n",
    "                model.rho_A = rho_A\n",
    "            elif j == 4:\n",
    "                rho_n = update_rho_n(X, model)\n",
    "                model.rho_n = rho_n\n",
    "            else:\n",
    "                rho_alpha = update_rho_alpha(model)\n",
    "                model.rho_alpha = rho_alpha\n",
    "        lb, _ = compute_lower_bound(X, model)\n",
    "#         print(lb)\n",
    "        if (np.std(local_lbs[-3:]) < thresh and itr_count > 3) or itr_count >= maxIter:\n",
    "            break\n",
    "            \n",
    "    return model"
   ]
  },
  {
   "cell_type": "code",
   "execution_count": 250,
   "metadata": {},
   "outputs": [],
   "source": [
    "def move(model, h, l):\n",
    "    phi_mean = model.phi[0,:,:]\n",
    "    phi_cov = model.phi[1,:,:]\n",
    "    nu = model.nu\n",
    "    \n",
    "    r = np.random.randint(5)\n",
    "    if r == 0:  # Let h = h - l, leave l alone\n",
    "        phi_mean[h,:] = phi_mean[h,:] - phi_mean[l,:]\n",
    "        nu[:,h] = nu[:,h] - nu[:,l]\n",
    "        nu[nu[:,h] <= 0,h] = 0.0001  # make sure it's larger than 0\n",
    "    elif r == 1: # Let h = h + l, leave l alone\n",
    "        phi_mean[h,:] = phi_mean[h,:] + phi_mean[l,:]\n",
    "        nu[:,h] = nu[:,h] + nu[:,l]\n",
    "        nu[nu[:,h] >= 1,h] = 0.9999 # make sure it's smaller than 1\n",
    "        phi_cov_avg = (phi_cov[h,:] + phi_cov[l,:])/2\n",
    "        phi_cov[h,:] = phi_cov_avg\n",
    "        phi_cov[l,:] = phi_cov_avg\n",
    "    elif r == 2: # Let h = h + l, delete l\n",
    "        phi_mean[h,:] = phi_mean[h,:] + phi_mean[l,:]\n",
    "        phi_mean[l,:] = 0.01*np.random.rand(phi_mean[l,:].shape[0])\n",
    "        nu[:,h] = nu[:,h] + nu[:,l]\n",
    "        nu[nu[:,h] >= 1,h] = 0.9999 # make sure it's smaller than 1\n",
    "        phi_cov_avg = (phi_cov[h,:] + phi_cov[l,:])/2\n",
    "        phi_cov[h,:] = phi_cov_avg\n",
    "        phi_cov[l,:] = phi_cov_avg\n",
    "    elif r == 3: # randomly reset h and l\n",
    "        phi_mean[h,:] = 0.01*np.random.randn(phi_mean[h,:].shape[0])\n",
    "        phi_mean[l,:] = 0.01*np.random.randn(phi_mean[l,:].shape[0])\n",
    "        nu[:,h] = np.random.rand(nu[:,h].shape[0])\n",
    "        nu[:,l] = np.random.rand(nu[:,l].shape[0])\n",
    "        phi_cov_avg = (phi_cov[h,:] + phi_cov[l,:])/2\n",
    "        phi_cov[h,:] = phi_cov_avg\n",
    "        phi_cov[l,:] = phi_cov_avg\n",
    "    elif r == 4: # h = h - l, l = h + l\n",
    "        phi_mean[h,:], phi_mean[l,:] = phi_mean[h,:] - phi_mean[l,:], phi_mean[h,:] + phi_mean[l,:]\n",
    "        nu[:,h], nu[:,l] = nu[:,h] + nu[:,l], nu[:,h] + nu[:,l]\n",
    "        nu[nu[:,h] >= 1,h] = 0.9999 # make sure it's smaller than 1\n",
    "        nu[nu[:,l] >= 1,l] = 0.9999 # make sure it's smaller than 1\n",
    "        phi_cov_avg = (phi_cov[h,:] + phi_cov[l,:])/2\n",
    "        phi_cov[h,:] = phi_cov_avg\n",
    "        phi_cov[l,:] = phi_cov_avg\n",
    "    model.phi[0,:,:] = phi_mean\n",
    "    model.phi[1,:,:] = phi_cov\n",
    "    model.nu = nu\n",
    "    return model"
   ]
  },
  {
   "cell_type": "code",
   "execution_count": 251,
   "metadata": {},
   "outputs": [],
   "source": [
    "def search_heuristics(X, model):\n",
    "    best_lb, _ = compute_lower_bound(X, model)\n",
    "    best_model_dic = model.attrs_dict(exclude = ['lbs','model_sets', 'best_lb', 'best_model_idx'])\n",
    "    \n",
    "    K = model.K\n",
    "    \n",
    "    for h in range(K):\n",
    "        for l in np.delete(np.arange(K), h):\n",
    "            new_model = copy.deepcopy(model)\n",
    "            new_model = move(new_model, h, l)\n",
    "            new_model = update_parameters(X, new_model, maxIter = 5)\n",
    "            new_lb, _ = compute_lower_bound(X, new_model)\n",
    "            if new_lb > best_lb:\n",
    "                best_model_dic = new_model.attrs_dict(exclude = ['lbs','model_sets', 'best_lb', 'best_model_idx'])\n",
    "                best_lb = new_lb\n",
    "            new_model = None\n",
    "    return best_lb, best_model_dic"
   ]
  },
  {
   "cell_type": "code",
   "execution_count": 252,
   "metadata": {},
   "outputs": [],
   "source": [
    "def initialize_model(model, K = 6):\n",
    "     # save model parameters\n",
    "    model.N, model.D = X.shape\n",
    "    model.K = K # set maximum truncation level\n",
    "\n",
    "    # priors\n",
    "    model.alpha_0 = np.array([1.1, 1.1])\n",
    "    model.tau_A0 = np.array([1.1, 1.1])\n",
    "    model.tau_n0 = np.array([1.1, 1.1])\n",
    "\n",
    "    # variational parameters\n",
    "    model.rho_alpha = np.random.rand(2)\n",
    "    model.rho_A = np.random.rand(2)\n",
    "    model.rho_n = np.random.rand(2)\n",
    "    model.phi = np.random.rand(2, model.K, model.D) # Dim 0 for mean and dim 1 for var\n",
    "                                                    # same in doshi's code, assume independent\n",
    "    model.eta = np.random.rand(model.K, 2)\n",
    "    model.nu = np.random.rand(model.N, model.K)\n",
    "    return model"
   ]
  },
  {
   "cell_type": "markdown",
   "metadata": {},
   "source": [
    "# train"
   ]
  },
  {
   "cell_type": "code",
   "execution_count": 257,
   "metadata": {
    "scrolled": false
   },
   "outputs": [
    {
     "name": "stdout",
     "output_type": "stream",
     "text": [
      "==================================================\n",
      "==================== Run #0 ====================\n",
      "==================================================\n",
      "initial lb:  -50609.256704392596\n"
     ]
    },
    {
     "name": "stderr",
     "output_type": "stream",
     "text": [
      "/Users/joey/anaconda3/lib/python3.6/site-packages/numpy/core/_methods.py:234: RuntimeWarning: Degrees of freedom <= 0 for slice\n",
      "  keepdims=keepdims)\n",
      "/Users/joey/anaconda3/lib/python3.6/site-packages/numpy/core/_methods.py:195: RuntimeWarning: invalid value encountered in true_divide\n",
      "  arrmean, rcount, out=arrmean, casting='unsafe', subok=False)\n",
      "/Users/joey/anaconda3/lib/python3.6/site-packages/numpy/core/_methods.py:226: RuntimeWarning: invalid value encountered in double_scalars\n",
      "  ret = ret.dtype.type(ret / rcount)\n"
     ]
    },
    {
     "name": "stdout",
     "output_type": "stream",
     "text": [
      "after update_parameters, lb:  -8427.98666247945\n",
      "after search_heuristics, lb:  -4972.359542478643\n",
      "after update_parameters, lb:  -4957.888642872348\n",
      "after search_heuristics, lb:  -4298.537796603885\n",
      "after update_parameters, lb:  -4274.906849784568\n",
      "after search_heuristics, lb:  -3666.1087171976083\n",
      "after update_parameters, lb:  -3405.1467100383506\n",
      "after search_heuristics, lb:  -2163.7171531760414\n",
      "after update_parameters, lb:  -1670.458617514591\n",
      "after search_heuristics, lb:  -11.148454897855366\n",
      "after update_parameters, lb:  -8.169584783731487\n",
      "after search_heuristics, lb:  -6.342979554767627\n",
      "after update_parameters, lb:  -6.065263637321046\n",
      "after search_heuristics, lb:  -5.701995285924724\n",
      "after update_parameters, lb:  -5.625258607311615\n",
      "after search_heuristics, lb:  -5.511396671675861\n",
      "after update_parameters, lb:  -5.484242314471118\n",
      "after search_heuristics, lb:  -5.440327816987715\n",
      "after update_parameters, lb:  -5.428906639684595\n",
      "after search_heuristics, lb:  74.86960590982721\n",
      "after update_parameters, lb:  76.55662993718427\n",
      "after search_heuristics, lb:  77.68952243616879\n",
      "after update_parameters, lb:  77.82392707090811\n",
      "after search_heuristics, lb:  77.97540194389978\n",
      "after update_parameters, lb:  78.00422882425428\n",
      "after search_heuristics, lb:  78.04546697906326\n",
      "after update_parameters, lb:  78.05505847465018\n",
      "after search_heuristics, lb:  78.07025004830217\n",
      "after update_parameters, lb:  78.07408034314207\n",
      "after search_heuristics, lb:  78.08042573274996\n",
      "after update_parameters, lb:  78.08209134814997\n",
      "after search_heuristics, lb:  78.08493554733968\n",
      "after update_parameters, lb:  78.08570586336353\n",
      "after search_heuristics, lb:  78.08705968260216\n",
      "after update_parameters, lb:  78.08743893036467\n",
      "after search_heuristics, lb:  78.08812665250038\n",
      "after update_parameters, lb:  78.08832604615753\n",
      "after search_heuristics, lb:  78.0886992833036\n",
      "==================================================\n",
      "==================== Run #1 ====================\n",
      "==================================================\n",
      "initial lb:  -26549.54970428945\n",
      "after update_parameters, lb:  -6881.538589229972\n",
      "after search_heuristics, lb:  -4860.060895443249\n",
      "after update_parameters, lb:  -4830.319817369127\n",
      "after search_heuristics, lb:  -3959.99248333396\n",
      "after update_parameters, lb:  -3890.669660375841\n",
      "after search_heuristics, lb:  -2929.127129030492\n",
      "after update_parameters, lb:  -2646.980143343282\n",
      "after search_heuristics, lb:  -1574.5327795157893\n",
      "after update_parameters, lb:  -1005.482813533209\n",
      "after search_heuristics, lb:  -387.6968037313481\n",
      "after update_parameters, lb:  -185.17259388285424\n",
      "after search_heuristics, lb:  -27.96027259004661\n",
      "after update_parameters, lb:  -19.71460953925871\n",
      "after search_heuristics, lb:  -7.393583873988803\n",
      "after update_parameters, lb:  -2.995110545947483\n",
      "after search_heuristics, lb:  -2.995110545947483\n",
      "after update_parameters, lb:  -1.1108771205050516\n",
      "after search_heuristics, lb:  -1.1108771205050516\n",
      "after update_parameters, lb:  -0.16320933529789272\n",
      "after search_heuristics, lb:  -0.16320933529789272\n",
      "after update_parameters, lb:  0.4063448288899494\n",
      "after search_heuristics, lb:  0.4063448288899494\n",
      "after update_parameters, lb:  0.8651337045659524\n",
      "after search_heuristics, lb:  0.8651337045659524\n",
      "after update_parameters, lb:  1.120110666550346\n",
      "after search_heuristics, lb:  1.120110666550346\n",
      "after update_parameters, lb:  1.2432780096868719\n",
      "after search_heuristics, lb:  1.2432780096868719\n",
      "after update_parameters, lb:  1.3233450414904837\n",
      "after search_heuristics, lb:  1.3233450414904837\n",
      "after update_parameters, lb:  1.377164633424698\n",
      "after search_heuristics, lb:  1.377164633424698\n",
      "after update_parameters, lb:  1.4017272517319839\n",
      "after search_heuristics, lb:  1.4017272517319839\n",
      "after update_parameters, lb:  1.4164970605305562\n",
      "after search_heuristics, lb:  1.4164970605305562\n",
      "after update_parameters, lb:  1.4261915346562795\n",
      "after search_heuristics, lb:  1.4261915346562795\n",
      "after update_parameters, lb:  1.433516564579275\n",
      "after search_heuristics, lb:  1.433516564579275\n",
      "after update_parameters, lb:  1.4374587720371679\n",
      "after search_heuristics, lb:  1.4374587720371679\n",
      "after update_parameters, lb:  1.4407556586143464\n",
      "after search_heuristics, lb:  1.4407556586143464\n",
      "after update_parameters, lb:  1.4426115001778754\n",
      "after search_heuristics, lb:  1.4426115001778754\n",
      "after update_parameters, lb:  1.4438252237001308\n",
      "after search_heuristics, lb:  1.4438252237001308\n",
      "after update_parameters, lb:  1.4446816133312836\n",
      "after search_heuristics, lb:  1.4446816133312836\n",
      "==================================================\n",
      "==================== Run #2 ====================\n",
      "==================================================\n",
      "initial lb:  -79590.2738065008\n",
      "after update_parameters, lb:  -8250.763172791403\n",
      "after search_heuristics, lb:  -5221.06581248535\n",
      "after update_parameters, lb:  -5206.2121792976695\n",
      "after search_heuristics, lb:  -4163.71320265023\n",
      "after update_parameters, lb:  -4020.742222950357\n",
      "after search_heuristics, lb:  -2491.2701178806046\n",
      "after update_parameters, lb:  -2147.7026611646675\n",
      "after search_heuristics, lb:  -40.73422044611973\n",
      "after update_parameters, lb:  60.22380532844623\n",
      "after search_heuristics, lb:  73.11133103945755\n",
      "after update_parameters, lb:  73.19919058699088\n",
      "after search_heuristics, lb:  73.247601176643\n",
      "after update_parameters, lb:  73.25820220627438\n",
      "after search_heuristics, lb:  73.2755408803543\n",
      "after update_parameters, lb:  73.27996616788862\n",
      "after search_heuristics, lb:  73.28719693787872\n",
      "after update_parameters, lb:  73.28902926753855\n",
      "after search_heuristics, lb:  73.29199478198603\n",
      "after update_parameters, lb:  73.29273710521427\n",
      "after search_heuristics, lb:  73.29392135803849\n",
      "after update_parameters, lb:  73.2942119224885\n",
      "after search_heuristics, lb:  73.29428036556861\n",
      "after update_parameters, lb:  73.29475164353072\n",
      "after search_heuristics, lb:  73.29493489459963\n"
     ]
    }
   ],
   "source": [
    "model = params_set()\n",
    "# for logging purpose\n",
    "model.lbs = []\n",
    "model.model_sets = []\n",
    "model.best_lb = 0\n",
    "# recording which iteration in which run has the best lb \n",
    "model.best_model_idx = (0,0) # (best run idx, best iter idx) \n",
    "\n",
    "\n",
    "for i in range(3):\n",
    "    print('='*50)\n",
    "    print('='*20,'Run #{}'.format(i),'='*20)\n",
    "    print('='*50)\n",
    "    \n",
    "    model = initialize_model(model, 6)\n",
    "    lb, _ = compute_lower_bound(X, model)\n",
    "    print('initial lb: ', lb)\n",
    "    \n",
    "    lbs = [lb]\n",
    "    model_sets = [model.attrs_dict(exclude = ['lbs','model_sets', 'best_lb', 'best_model_idx'])]\n",
    "    iter_count = 0\n",
    "    while 1:\n",
    "        model = update_parameters(X, model, maxIter = 2)\n",
    "        lb, _ = compute_lower_bound(X, model)\n",
    "        print('after update_parameters, lb: ', lb)\n",
    "\n",
    "        best_lb, best_model_dic = search_heuristics(X, model)\n",
    "        model.set_attrs_dict(best_model_dic)\n",
    "        lb, _ = compute_lower_bound(X, model)\n",
    "        print('after search_heuristics, lb: ', lb)\n",
    "        \n",
    "        lbs.append(lb)\n",
    "        model_sets.append(model.attrs_dict(exclude = ['lbs','model_sets', 'best_lb', 'best_model_idx']))\n",
    "        if len(lbs) > 3 and np.std(lbs[-3:]) <1e-3:\n",
    "            break\n",
    "        if model.best_lb < lb or model.best_lb == 0:\n",
    "            model.best_lb = lb\n",
    "            model.best_model_idx = (i,iter_count)\n",
    "        iter_count += 1\n",
    "        \n",
    "    model.model_sets.append(model_sets)\n",
    "    model.lbs.append(lbs)\n"
   ]
  },
  {
   "cell_type": "markdown",
   "metadata": {},
   "source": [
    "# examine model performance"
   ]
  },
  {
   "cell_type": "code",
   "execution_count": 292,
   "metadata": {},
   "outputs": [
    {
     "data": {
      "image/png": "[encoded data removed]",
      "text/plain": [
       "<Figure size 432x288 with 1 Axes>"
      ]
     },
     "metadata": {},
     "output_type": "display_data"
    }
   ],
   "source": [
    "label_names = ['sigma_n', 'sigma_A', 'alpha']\n",
    "model_sets = model.model_sets[best_model_idx[0]]\n",
    "for i,name in enumerate(['rho_n', 'rho_A', 'rho_alpha']):\n",
    "    parameters = np.zeros(len(model_sets))\n",
    "    for j,model_set in enumerate(model_sets):\n",
    "        parameters[i] = np.sqrt((model_sets[j][name][1])/(model_sets[j][name][0]))\n",
    "    plt.plot(parameters, label = label_names[i])\n",
    "plt.legend()\n",
    "plt.show()"
   ]
  },
  {
   "cell_type": "code",
   "execution_count": 347,
   "metadata": {},
   "outputs": [],
   "source": [
    "def plot_para_history(model_sets, name, title = None):\n",
    "    plt.figure(figsize = (6,4))\n",
    "    parameters = np.zeros(len(model_sets))\n",
    "    for i,model_set in enumerate(model_sets):\n",
    "        parameters[i] = np.sqrt((model_sets[i][name][1])/(model_sets[i][name][0]))\n",
    "    plt.plot(parameters, label = str(i))\n",
    "    if title:\n",
    "        plt.ylabel(title,fontsize = 24)\n",
    "    plt.xticks(fontsize = 14)\n",
    "    plt.xlabel('iterations', fontsize = 16)\n",
    "    plt.yticks(fontsize = 14)\n",
    "    plt.show()"
   ]
  },
  {
   "cell_type": "code",
   "execution_count": 349,
   "metadata": {},
   "outputs": [
    {
     "data": {
      "image/png": "[encoded data removed]",
      "text/plain": [
       "<Figure size 432x288 with 1 Axes>"
      ]
     },
     "metadata": {},
     "output_type": "display_data"
    }
   ],
   "source": [
    "plot_para_history(model_sets, 'rho_n', title='$\\sigma_n$')"
   ]
  },
  {
   "cell_type": "code",
   "execution_count": 350,
   "metadata": {},
   "outputs": [
    {
     "data": {
      "image/png": "[encoded data removed]",
      "text/plain": [
       "<Figure size 432x288 with 1 Axes>"
      ]
     },
     "metadata": {},
     "output_type": "display_data"
    }
   ],
   "source": [
    "plot_para_history(model_sets, 'rho_A', title='$\\sigma_A$')"
   ]
  },
  {
   "cell_type": "code",
   "execution_count": 351,
   "metadata": {},
   "outputs": [
    {
     "data": {
      "image/png": "[encoded data removed]",
      "text/plain": [
       "<Figure size 432x288 with 1 Axes>"
      ]
     },
     "metadata": {},
     "output_type": "display_data"
    }
   ],
   "source": [
    "plot_para_history(model_sets, 'rho_alpha', title=r'$\\alpha$')"
   ]
  },
  {
   "cell_type": "code",
   "execution_count": 348,
   "metadata": {},
   "outputs": [
    {
     "name": "stdout",
     "output_type": "stream",
     "text": [
      "(0, 17)\n"
     ]
    }
   ],
   "source": [
    "best_model_idx = model.best_model_idx\n",
    "best_model = model.model_sets[best_model_idx[0]][best_model_idx[1]]\n",
    "print(best_model_idx)"
   ]
  },
  {
   "cell_type": "code",
   "execution_count": 261,
   "metadata": {},
   "outputs": [
    {
     "data": {
      "text/plain": [
       "Text(0,0.5,'image #')"
      ]
     },
     "execution_count": 261,
     "metadata": {},
     "output_type": "execute_result"
    },
    {
     "data": {
      "image/png": "[encoded data removed]",
      "text/plain": [
       "<Figure size 144x360 with 1 Axes>"
      ]
     },
     "metadata": {},
     "output_type": "display_data"
    }
   ],
   "source": [
    "# show learned feature matrix Z\n",
    "plt.figure(figsize = (2,5))\n",
    "plt.imshow(best_model['nu'][:10,:], cmap='gray')\n",
    "plt.xlabel('feature #', fontsize = 16)\n",
    "plt.ylabel('image #', fontsize = 16)\n",
    "plt.show()\n"
   ]
  },
  {
   "cell_type": "code",
   "execution_count": 262,
   "metadata": {},
   "outputs": [
    {
     "data": {
      "image/png": "[encoded data removed]",
      "text/plain": [
       "<Figure size 720x432 with 12 Axes>"
      ]
     },
     "metadata": {},
     "output_type": "display_data"
    }
   ],
   "source": [
    "# show learned feature weight matrix A\n",
    "plt.figure(figsize = (10,6))\n",
    "plt.suptitle('Learned features', fontsize = 20)\n",
    "\n",
    "for j in range(6):\n",
    "    plt.subplot(2,3,1+j)\n",
    "    plt.imshow(best_model['phi'][0,j,:].reshape(6,6), cmap = 'gray')\n",
    "    plt.axis('off')\n",
    "    plt.title(f'feature #{j}', fontsize = 18)\n",
    "    plt.colorbar()\n",
    "plt.show()"
   ]
  },
  {
   "cell_type": "code",
   "execution_count": 263,
   "metadata": {},
   "outputs": [
    {
     "data": {
      "image/png": "[encoded data removed]",
      "text/plain": [
       "<Figure size 720x396 with 5 Axes>"
      ]
     },
     "metadata": {},
     "output_type": "display_data"
    }
   ],
   "source": [
    "# show first 5 examples and there prediction\n",
    "plt.figure(figsize = (10,5.5))\n",
    "# plt.suptitle('Sample from dataset', fontsize = 18)\n",
    "for i in range(5):\n",
    "#     print(Z_groundtruth[i])\n",
    "    plt.subplot(1,5,1+i)\n",
    "    plt.title(f\"{str(best_model['nu'][i,:].astype(int))}\", fontsize = 20)\n",
    "    plt.axis('off')\n",
    "    plt.imshow(X[i,:].reshape(6,6), cmap='gray')\n",
    "plt.tight_layout()\n",
    "plt.show()"
   ]
  },
  {
   "cell_type": "code",
   "execution_count": null,
   "metadata": {},
   "outputs": [],
   "source": []
  }
 ],
 "metadata": {
  "kernelspec": {
   "display_name": "Python 3",
   "language": "python",
   "name": "python3"
  },
  "language_info": {
   "codemirror_mode": {
    "name": "ipython",
    "version": 3
   },
   "file_extension": ".py",
   "mimetype": "text/x-python",
   "name": "python",
   "nbconvert_exporter": "python",
   "pygments_lexer": "ipython3",
   "version": "3.6.7"
  },
  "toc": {
   "base_numbering": 1,
   "nav_menu": {},
   "number_sections": true,
   "sideBar": true,
   "skip_h1_title": false,
   "title_cell": "Table of Contents",
   "title_sidebar": "Contents",
   "toc_cell": true,
   "toc_position": {},
   "toc_section_display": true,
   "toc_window_display": true
  }
 },
 "nbformat": 4,
 "nbformat_minor": 2
}
